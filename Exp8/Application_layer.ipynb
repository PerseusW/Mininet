{
 "cells": [
  {
   "cell_type": "markdown",
   "metadata": {},
   "source": [
    "# Lab 8 Application layer: CDN and DNS"
   ]
  },
  {
   "cell_type": "markdown",
   "metadata": {},
   "source": [
    "### Before you start please implement your name-Student_ID again and push it!!!"
   ]
  },
  {
   "cell_type": "markdown",
   "metadata": {},
   "source": [
    "## Content Distribution Network\n",
    "\n",
    "The key idea of CDN is to replicate popular Websites across many machines and use Pull && Push to combine cache and replication. Currently CDN is used so commonly that user can't \"feel\" the replication's existence. \n",
    "\n",
    "Let's see one example(refed from PKU Computer Network-summer school):\n",
    "\n",
    "According to Google, the distance between Cambridge,UK to Nanjing,CN is 8916km and 8224km for Melbourne,AU and Nanjing,CN.\n",
    "\n",
    "Let's ping the Cambridge U and monash U to get the RTT:"
   ]
  },
  {
   "cell_type": "code",
   "execution_count": 33,
   "metadata": {},
   "outputs": [
    {
     "name": "stdout",
     "output_type": "stream",
     "text": [
      "PING www.cam.ac.uk (128.232.132.8) 56(84) bytes of data.\n",
      "64 bytes from tm-128-232-132-8.tm.uis.cam.ac.uk (128.232.132.8): icmp_seq=1 ttl=36 time=304 ms\n",
      "64 bytes from tm-128-232-132-8.tm.uis.cam.ac.uk (128.232.132.8): icmp_seq=2 ttl=36 time=295 ms\n",
      "64 bytes from tm-128-232-132-8.tm.uis.cam.ac.uk (128.232.132.8): icmp_seq=3 ttl=36 time=312 ms\n",
      "\n",
      "--- www.cam.ac.uk ping statistics ---\n",
      "3 packets transmitted, 3 received, 0% packet loss, time 2002ms\n",
      "rtt min/avg/max/mdev = 295.259/303.740/312.304/6.958 ms\n"
     ]
    }
   ],
   "source": [
    "!ping www.cam.ac.uk -c 3"
   ]
  },
  {
   "cell_type": "markdown",
   "metadata": {},
   "source": [
    "If you run this in Nanjing the RTT bt Cambridge U and NJU is about 290ms, however"
   ]
  },
  {
   "cell_type": "code",
   "execution_count": 41,
   "metadata": {},
   "outputs": [
    {
     "name": "stdout",
     "output_type": "stream",
     "text": [
      "PING monash.squizedge.net (176.32.95.209) 56(84) bytes of data.\n",
      "^C\n",
      "\n",
      "--- monash.squizedge.net ping statistics ---\n",
      "3 packets transmitted, 0 received, 100% packet loss, time 2030ms\n",
      "\n"
     ]
    }
   ],
   "source": [
    "!ping www.monash.edu -c 3"
   ]
  },
  {
   "cell_type": "markdown",
   "metadata": {},
   "source": [
    "So RTT this time is 44ms. But hold on, the distance between NJU and Monash U is 8224km, which means even light travel from NJU to Monash then back NJU will spend at least:"
   ]
  },
  {
   "cell_type": "code",
   "execution_count": 3,
   "metadata": {},
   "outputs": [
    {
     "data": {
      "text/plain": [
       "'54.82666666666667ms'"
      ]
     },
     "execution_count": 3,
     "metadata": {},
     "output_type": "execute_result"
    }
   ],
   "source": [
    "str(2*(8224/300000)*1000)+\"ms\""
   ]
  },
  {
   "cell_type": "markdown",
   "metadata": {},
   "source": [
    "Well what happened? Let's find out using traceroute"
   ]
  },
  {
   "cell_type": "code",
   "execution_count": 4,
   "metadata": {},
   "outputs": [
    {
     "name": "stdout",
     "output_type": "stream",
     "text": [
      "traceroute to www.cam.ac.uk (128.232.132.8), 30 hops max, 60 byte packets\n",
      " 1  _gateway (114.212.80.1)  2.025 ms  1.858 ms  2.136 ms\n",
      " 2  * * 172.28.255.13 (172.28.255.13)  1.595 ms\n",
      " 3  * * *\n",
      " 4  * * *\n",
      " 5  211.65.207.73 (211.65.207.73)  3.384 ms  3.322 ms  3.404 ms\n",
      " 6  101.4.112.65 (101.4.112.65)  2.578 ms 101.4.116.105 (101.4.116.105)  2.200 ms 101.4.116.222 (101.4.116.222)  2.038 ms\n",
      " 7  101.4.112.42 (101.4.112.42)  17.280 ms  16.555 ms  16.257 ms\n",
      " 8  101.4.117.30 (101.4.117.30)  35.918 ms 101.4.112.61 (101.4.112.61)  15.693 ms  15.749 ms\n",
      " 9  101.4.117.38 (101.4.117.38)  32.976 ms  32.939 ms  32.941 ms\n",
      "10  101.4.112.69 (101.4.112.69)  34.225 ms  34.029 ms 101.4.112.1 (101.4.112.1)  30.147 ms\n",
      "11  101.4.114.194 (101.4.114.194)  37.102 ms 101.4.114.170 (101.4.114.170)  36.944 ms 101.4.113.109 (101.4.113.109)  32.418 ms\n",
      "12  101.4.114.174 (101.4.114.174)  31.401 ms 210.25.189.65 (210.25.189.65)  34.856 ms  34.879 ms\n",
      "13  210.25.189.65 (210.25.189.65)  32.476 ms 210.25.187.46 (210.25.187.46)  35.909 ms  35.847 ms\n",
      "14  210.25.187.46 (210.25.187.46)  33.028 ms 210.25.187.41 (210.25.187.41)  34.973 ms  34.466 ms\n",
      "15  orientplus-gw.mx1.lon.uk.geant.net (62.40.125.101)  263.800 ms  263.737 ms  264.330 ms\n",
      "16  janet-gw.mx1.lon.uk.geant.net (62.40.124.198)  329.858 ms orientplus-gw.mx1.lon.uk.geant.net (62.40.125.101)  262.054 ms  262.039 ms\n",
      "17  ae28.lowdss-sbr1.ja.net (146.97.33.18)  328.890 ms janet-gw.mx1.lon.uk.geant.net (62.40.124.198)  326.868 ms ae28.lowdss-sbr1.ja.net (146.97.33.18)  331.845 ms\n",
      "18  ae28.lowdss-sbr1.ja.net (146.97.33.18)  329.439 ms ae26.lowdss-ban1.ja.net (146.97.35.246)  329.829 ms ae28.lowdss-sbr1.ja.net (146.97.33.18)  329.170 ms\n",
      "19  uoc.ja.net (146.97.41.38)  333.313 ms ae26.lowdss-ban1.ja.net (146.97.35.246)  326.658 ms uoc.ja.net (146.97.41.38)  333.274 ms\n",
      "20  d-dw.s-dr.net.cam.ac.uk (193.60.88.6)  333.289 ms uoc.ja.net (146.97.41.38)  331.358 ms d-dw.s-dr.net.cam.ac.uk (193.60.88.6)  333.262 ms\n",
      "21  d-dw.s-dr.net.cam.ac.uk (193.60.88.6)  325.947 ms  325.723 ms  324.585 ms\n",
      "22  d-dw.s-dr.net.cam.ac.uk (193.60.88.6)  323.982 ms s-dr.f-sv-net.net.cam.ac.uk (128.232.128.6)  329.137 ms d-dw.s-dr.net.cam.ac.uk (193.60.88.6)  323.932 ms\n",
      "23  s-dr.f-sv-net.net.cam.ac.uk (128.232.128.6)  342.049 ms  342.005 ms *\n",
      "24  * * *\n",
      "25  * * *\n",
      "26  * * *\n",
      "27  * * *\n",
      "28  * * *\n",
      "29  * * *\n",
      "30  * * *\n"
     ]
    }
   ],
   "source": [
    "!traceroute www.cam.ac.uk"
   ]
  },
  {
   "cell_type": "code",
   "execution_count": 5,
   "metadata": {},
   "outputs": [
    {
     "name": "stdout",
     "output_type": "stream",
     "text": [
      "traceroute to www.monash.edu.au (176.32.95.209), 30 hops max, 60 byte packets\n",
      " 1  _gateway (114.212.80.1)  1.533 ms  1.202 ms  1.318 ms\n",
      " 2  172.28.255.13 (172.28.255.13)  0.912 ms * *\n",
      " 3  * * *\n",
      " 4  218.94.142.1 (218.94.142.1)  6.105 ms  3.431 ms  3.351 ms\n",
      " 5  218.2.131.9 (218.2.131.9)  3.337 ms  3.298 ms  3.268 ms\n",
      " 6  * * *\n",
      " 7  218.2.182.33 (218.2.182.33)  4.773 ms  7.270 ms  6.425 ms\n",
      " 8  202.97.92.21 (202.97.92.21)  15.438 ms  16.332 ms  15.410 ms\n",
      " 9  * * *\n",
      "10  * * *\n",
      "11  * * *\n",
      "12  * * *\n",
      "13  * * *\n",
      "14  * * *\n",
      "15  * * *\n",
      "16  * * *\n",
      "17  * * *\n",
      "18  * * *\n",
      "19  * * *\n",
      "20  * * *\n",
      "21  * * *\n",
      "22  * * *\n",
      "23  * * *\n",
      "24  * * *\n",
      "25  * * *\n",
      "26  * * *\n",
      "27  * * *\n",
      "28  * * *\n",
      "29  * * *\n",
      "30  * * *\n"
     ]
    }
   ],
   "source": [
    "!traceroute www.monash.edu.au"
   ]
  },
  {
   "cell_type": "markdown",
   "metadata": {},
   "source": [
    "You can use https://ipinfo.io/ to see who hosts this IP address. And 176.32.95.209: \"This IP is hosted by Amazon.com, Inc. (AS16509) and located in the country Japan Tokyo.\"\n",
    "\n",
    "Using CDN, we actually visit the replication server in Japan(1956km) instead of the one in Melbourne."
   ]
  },
  {
   "cell_type": "markdown",
   "metadata": {},
   "source": [
    "## Domain name system\n",
    "\n",
    "DNS solves a bothering question that how to map from host name to IP address.\n",
    "\n",
    "The key idea is hierarchy namespace with recursive query and iterative query.\n",
    "\n",
    "Let's find out how it works,\n",
    "###### The following is refed from http://www.ruanyifeng.com/blog/2016/06/dns.html"
   ]
  },
  {
   "cell_type": "code",
   "execution_count": 6,
   "metadata": {},
   "outputs": [
    {
     "name": "stdout",
     "output_type": "stream",
     "text": [
      "PING www.nju.edu.cn (202.119.32.7) 56(84) bytes of data.\r\n",
      "64 bytes from logic.nju.edu.cn (202.119.32.7): icmp_seq=1 ttl=62 time=1.15 ms\r\n",
      "\r\n",
      "--- www.nju.edu.cn ping statistics ---\r\n",
      "1 packets transmitted, 1 received, 0% packet loss, time 0ms\r\n",
      "rtt min/avg/max/mdev = 1.147/1.147/1.147/0.000 ms\r\n"
     ]
    }
   ],
   "source": [
    "!ping www.nju.edu.cn -c1"
   ]
  },
  {
   "cell_type": "markdown",
   "metadata": {},
   "source": [
    "#### Let's first \"dig\" out NJU's IP address\n",
    "\n",
    "Here on my computer `127.0.0.53` is my local DNS server and yours is just after `;; SERVER:`"
   ]
  },
  {
   "cell_type": "code",
   "execution_count": 7,
   "metadata": {},
   "outputs": [
    {
     "name": "stdout",
     "output_type": "stream",
     "text": [
      "\r\n",
      "; <<>> DiG 9.11.5-P4-5.1ubuntu2.1-Ubuntu <<>> www.nju.edu.cn\r\n",
      ";; global options: +cmd\r\n",
      ";; Got answer:\r\n",
      ";; ->>HEADER<<- opcode: QUERY, status: NOERROR, id: 743\r\n",
      ";; flags: qr rd ra; QUERY: 1, ANSWER: 1, AUTHORITY: 0, ADDITIONAL: 1\r\n",
      "\r\n",
      ";; OPT PSEUDOSECTION:\r\n",
      "; EDNS: version: 0, flags:; udp: 65494\r\n",
      ";; QUESTION SECTION:\r\n",
      ";www.nju.edu.cn.\t\t\tIN\tA\r\n",
      "\r\n",
      ";; ANSWER SECTION:\r\n",
      "www.nju.edu.cn.\t\t3599\tIN\tA\t202.119.32.7\r\n",
      "\r\n",
      ";; Query time: 0 msec\r\n",
      ";; SERVER: 127.0.0.53#53(127.0.0.53)\r\n",
      ";; WHEN: Wed Dec 18 16:51:23 CST 2019\r\n",
      ";; MSG SIZE  rcvd: 59\r\n",
      "\r\n"
     ]
    }
   ],
   "source": [
    "!dig www.nju.edu.cn"
   ]
  },
  {
   "cell_type": "markdown",
   "metadata": {},
   "source": [
    "127.0.0.53 is my NJU local DNS server and there are also many famous public DNS server like Google's 8.8.8.8 alidns, you can change DNS server with  \n",
    "```\n",
    "nameserver 8.8.8.8\n",
    "nameserver 8.8.4.4\n",
    "nameserver 114.114.114.114\n",
    "nameserver 42.120.214.1\n",
    "```\n",
    "\n",
    "in /etc/resolv.conf\n",
    "\n",
    "### BACKUP BACKUP BACKUP\n",
    "\n",
    "Sometimes, we may face the problem about error opening some specific pages(i.e. Github). You can manually change hosts `$ sudo gedit /etc/hosts` or DNS `$ sudo gedit /etc/resolv.conf`.\n",
    "\n",
    "Let's see how to \"dig\" NJU's IP address with Google's DNS server 8.8.8.8"
   ]
  },
  {
   "cell_type": "code",
   "execution_count": 8,
   "metadata": {},
   "outputs": [
    {
     "name": "stdout",
     "output_type": "stream",
     "text": [
      "\r\n",
      "; <<>> DiG 9.11.5-P4-5.1ubuntu2.1-Ubuntu <<>> @8.8.8.8 www.nju.edu.cn\r\n",
      "; (1 server found)\r\n",
      ";; global options: +cmd\r\n",
      ";; Got answer:\r\n",
      ";; ->>HEADER<<- opcode: QUERY, status: NOERROR, id: 21075\r\n",
      ";; flags: qr rd ra; QUERY: 1, ANSWER: 1, AUTHORITY: 0, ADDITIONAL: 1\r\n",
      "\r\n",
      ";; OPT PSEUDOSECTION:\r\n",
      "; EDNS: version: 0, flags:; udp: 512\r\n",
      ";; QUESTION SECTION:\r\n",
      ";www.nju.edu.cn.\t\t\tIN\tA\r\n",
      "\r\n",
      ";; ANSWER SECTION:\r\n",
      "www.nju.edu.cn.\t\t2652\tIN\tA\t202.119.32.7\r\n",
      "\r\n",
      ";; Query time: 42 msec\r\n",
      ";; SERVER: 8.8.8.8#53(8.8.8.8)\r\n",
      ";; WHEN: Wed Dec 18 16:51:23 CST 2019\r\n",
      ";; MSG SIZE  rcvd: 59\r\n",
      "\r\n"
     ]
    }
   ],
   "source": [
    "!dig @8.8.8.8 www.nju.edu.cn"
   ]
  },
  {
   "cell_type": "markdown",
   "metadata": {},
   "source": [
    "Usually the host name contains four parts: aa.bb.cc.dd www.nju.edu.cn where \n",
    "+ aa:host name\n",
    "+ bb:second level domain\n",
    "+ cc:top level domain\n",
    "+ dd:root (A to M)\n",
    "\n",
    "and we usually neglect the root dd for `.com` because the root is all same. "
   ]
  },
  {
   "cell_type": "markdown",
   "metadata": {},
   "source": [
    "Next, let's see how to \"dig\" NJU's IP address\n",
    "\n",
    "Because 127.0.0.53 is my NJU's local DNS server, thus it return NJU's IP address within 1ms."
   ]
  },
  {
   "cell_type": "code",
   "execution_count": 9,
   "metadata": {},
   "outputs": [
    {
     "name": "stdout",
     "output_type": "stream",
     "text": [
      "\r\n",
      "; <<>> DiG 9.11.5-P4-5.1ubuntu2.1-Ubuntu <<>> +trace www.nju.edu.cn\r\n",
      ";; global options: +cmd\r\n",
      ";; Received 51 bytes from 127.0.0.53#53(127.0.0.53) in 0 ms\r\n",
      "\r\n"
     ]
    }
   ],
   "source": [
    "!dig +trace www.nju.edu.cn"
   ]
  },
  {
   "cell_type": "markdown",
   "metadata": {},
   "source": [
    "Let's see what Google DNS server will do,"
   ]
  },
  {
   "cell_type": "code",
   "execution_count": 10,
   "metadata": {},
   "outputs": [
    {
     "name": "stdout",
     "output_type": "stream",
     "text": [
      "\n",
      "; <<>> DiG 9.11.5-P4-5.1ubuntu2.1-Ubuntu <<>> +trace @8.8.8.8 www.nju.edu.cn\n",
      "; (1 server found)\n",
      ";; global options: +cmd\n",
      ".\t\t\t8777\tIN\tNS\ta.root-servers.net.\n",
      ".\t\t\t8777\tIN\tNS\tb.root-servers.net.\n",
      ".\t\t\t8777\tIN\tNS\tc.root-servers.net.\n",
      ".\t\t\t8777\tIN\tNS\td.root-servers.net.\n",
      ".\t\t\t8777\tIN\tNS\te.root-servers.net.\n",
      ".\t\t\t8777\tIN\tNS\tf.root-servers.net.\n",
      ".\t\t\t8777\tIN\tNS\tg.root-servers.net.\n",
      ".\t\t\t8777\tIN\tNS\th.root-servers.net.\n",
      ".\t\t\t8777\tIN\tNS\ti.root-servers.net.\n",
      ".\t\t\t8777\tIN\tNS\tj.root-servers.net.\n",
      ".\t\t\t8777\tIN\tNS\tk.root-servers.net.\n",
      ".\t\t\t8777\tIN\tNS\tl.root-servers.net.\n",
      ".\t\t\t8777\tIN\tNS\tm.root-servers.net.\n",
      ".\t\t\t8777\tIN\tRRSIG\tNS 8 0 518400 20191230050000 20191217040000 22545 . dFKL9Cy3e7YS21tReoW8TvDhQ9vWg85R0yHbWFtInRl4O2HQM6eLEMJW bnKTvRl4DkjSnGQUHG43xwNIVYje8kRA9CxRPYCtwarVqf3hQTmOVz4H gnLTGaxmMcgZajpJJqPMHnZJUXQ/Iicc/fWb7cwgGu1SMmOowuUXhYba eEYfYXdGLJIues3aio8RY4ui4dVuYuq3yyJOK0hrtpp6F5DaAeTc34ij V1lk64PiEZzJDudKeqzBlDYnXKj1iGwzOBLv+liocDfbQT5naL32l26S 1xy7Q5iT64j8RHrva1RssD+tmtgXffI9z84aLgbjg/uuExXM8cAaf8vN +K/zqA==\n",
      ";; Received 525 bytes from 8.8.8.8#53(8.8.8.8) in 44 ms\n",
      "\n",
      "cn.\t\t\t172800\tIN\tNS\ta.dns.cn.\n",
      "cn.\t\t\t172800\tIN\tNS\tb.dns.cn.\n",
      "cn.\t\t\t172800\tIN\tNS\tc.dns.cn.\n",
      "cn.\t\t\t172800\tIN\tNS\td.dns.cn.\n",
      "cn.\t\t\t172800\tIN\tNS\te.dns.cn.\n",
      "cn.\t\t\t172800\tIN\tNS\tf.dns.cn.\n",
      "cn.\t\t\t172800\tIN\tNS\tg.dns.cn.\n",
      "cn.\t\t\t172800\tIN\tNS\tns.cernet.net.\n",
      "cn.\t\t\t86400\tIN\tDS\t57724 8 2 5D0423633EB24A499BE78AA22D1C0C9BA36218FF49FD95A4CDF1A4AD 97C67044\n",
      "cn.\t\t\t86400\tIN\tRRSIG\tDS 8 1 86400 20191231050000 20191218040000 22545 . n693SOl5GrT+w4it3KHkAJnRr98zHagatUH5pMlGfKAr0umk3+4+znOx NNCjm45EJub/UN7HoHX3nLePsWl0IXJNijAK3JX+PQKtorzqu/qCfrxh wnCDZTnRsfm2j4uFHNFSZh0itRbshiN6asNeKxX5rWVGcCcRo7av6Izq HYmPosYLkbeGCY6b75NPDWnVRv4NWs3749fJAZTXeVK9r2kDZkKfhtHL sppzsV746VaEfoyOULJzc+mXonk3dVDKBMZhSSsu/1lUN137L4E1wLrt TjsTkcAPcQbS8x+XjugOE1fz83MBtyfjhSrlPVMxwEftasEpm92kMP4t 6AZe9g==\n",
      ";; Received 705 bytes from 2001:500:a8::e#53(e.root-servers.net) in 187 ms\n",
      "\n",
      "edu.cn.\t\t\t172800\tIN\tNS\tdeneb.dfn.de.\n",
      "edu.cn.\t\t\t172800\tIN\tNS\tdns2.edu.cn.\n",
      "edu.cn.\t\t\t172800\tIN\tNS\tdns.edu.cn.\n",
      "edu.cn.\t\t\t172800\tIN\tNS\tns2.cuhk.hk.\n",
      "edu.cn.\t\t\t172800\tIN\tNS\tns2.cernet.net.\n",
      "edu.cn.\t\t\t86400\tIN\tDS\t15397 8 1 CA602972D554DF57CC8322C18D9CF942FAC47430\n",
      "edu.cn.\t\t\t86400\tIN\tDS\t15397 8 2 3A6C89D32B3143D193521CE64389548821DA90F770AB09ECD9C8680B 2F4848B5\n",
      "edu.cn.\t\t\t86400\tIN\tRRSIG\tDS 8 2 86400 20200101062121 20191202060503 38388 cn. G9D1B12C84q7Cvyv7mEdzODjqWLeXYzzrvgj6mMm2SQjzx/E1BBm017F Bqzjpk5vUIP5XwxBU0IDT1RFbmN+ie2h2rqDuGZ51gtP6dThEtHHFtgr uwIYFu3WjA5TUFr6qy/c+FNotJisf7Z+FSbfpPWQBYY6biOClfp9+ynh iMQ=\n",
      ";; Received 493 bytes from 203.119.25.1#53(a.dns.cn) in 120 ms\n",
      "\n",
      "nju.edu.cn.\t\t172800\tIN\tNS\tdns.nju.edu.cn.\n",
      "nju.edu.cn.\t\t172800\tIN\tNS\tns.nju.edu.cn.\n",
      "SVLBB850DIODTH1K7GF9BO2DD9S3CU6O.edu.cn. 21600 IN NSEC3\t1 0 10 AFFF SVVVI7MOJG1DRSPGEH2SPELDIDGFOJJ7 NS\n",
      "SVLBB850DIODTH1K7GF9BO2DD9S3CU6O.edu.cn. 21600 IN RRSIG\tNSEC3 8 3 21600 20191226215349 20191126211301 21204 edu.cn. a5b5C6z/Ss/+qQUjl1nBsR+iWDIVefAZKEgtenhJpWcbcyGRtC7k8Ruk sPfnvWsBSL8b4r/+7J7TP9AnE9dY+zyDVYomoSYnJFA1wr5a5nUQTl7c gp7PJtm1DzJG/Zi3+geAXotpFk2pKr/85A6Yi8r/n7BMDqLOHxoCs7eo BFU=\n",
      ";; Received 380 bytes from 202.112.0.13#53(dns2.edu.cn) in 32 ms\n",
      "\n",
      "www.nju.edu.cn.\t\t3600\tIN\tA\t202.119.32.7\n",
      ";; Received 59 bytes from 202.119.32.12#53(ns.nju.edu.cn) in 0 ms\n",
      "\n"
     ]
    }
   ],
   "source": [
    "!dig +trace @8.8.8.8 www.nju.edu.cn"
   ]
  },
  {
   "cell_type": "markdown",
   "metadata": {},
   "source": [
    "You can see it first check `.` which contains (all a to m) root server, then ask them for `.cn` where a,b,c,... give the reply, then check for `edu.cn` and after that with `nju.edu.cn`. Finally we get NJU's IP address from local DNS server: dns.nju.edu.cn\n",
    "\n",
    "And you can also directly ask NJU's dns server for IP address"
   ]
  },
  {
   "cell_type": "code",
   "execution_count": 11,
   "metadata": {},
   "outputs": [
    {
     "name": "stdout",
     "output_type": "stream",
     "text": [
      "\r\n",
      "; <<>> DiG 9.11.5-P4-5.1ubuntu2.1-Ubuntu <<>> @dns.nju.edu.cn www.nju.edu.cn\r\n",
      "; (1 server found)\r\n",
      ";; global options: +cmd\r\n",
      ";; Got answer:\r\n",
      ";; ->>HEADER<<- opcode: QUERY, status: NOERROR, id: 62564\r\n",
      ";; flags: qr aa rd ra; QUERY: 1, ANSWER: 1, AUTHORITY: 0, ADDITIONAL: 1\r\n",
      "\r\n",
      ";; OPT PSEUDOSECTION:\r\n",
      "; EDNS: version: 0, flags:; udp: 4096\r\n",
      ";; QUESTION SECTION:\r\n",
      ";www.nju.edu.cn.\t\t\tIN\tA\r\n",
      "\r\n",
      ";; ANSWER SECTION:\r\n",
      "www.nju.edu.cn.\t\t3600\tIN\tA\t202.119.32.7\r\n",
      "\r\n",
      ";; Query time: 0 msec\r\n",
      ";; SERVER: 202.119.32.6#53(202.119.32.6)\r\n",
      ";; WHEN: Wed Dec 18 16:51:25 CST 2019\r\n",
      ";; MSG SIZE  rcvd: 59\r\n",
      "\r\n"
     ]
    }
   ],
   "source": [
    "!dig @dns.nju.edu.cn www.nju.edu.cn"
   ]
  },
  {
   "cell_type": "markdown",
   "metadata": {},
   "source": [
    "In book we know that (Name,Value,Type,TTL) is one DNS Resource Record where Type can be A,NS,CNAME,MX.\n",
    "\n",
    "Use them with nslookup,"
   ]
  },
  {
   "cell_type": "code",
   "execution_count": 12,
   "metadata": {},
   "outputs": [
    {
     "name": "stdout",
     "output_type": "stream",
     "text": [
      "Server:\t\t127.0.0.53\r\n",
      "Address:\t127.0.0.53#53\r\n",
      "\r\n",
      "Non-authoritative answer:\r\n",
      "Name:\twww.nju.edu.cn\r\n",
      "Address: 202.119.32.7\r\n",
      "\r\n"
     ]
    }
   ],
   "source": [
    "!nslookup -type=A www.nju.edu.cn"
   ]
  },
  {
   "cell_type": "code",
   "execution_count": 13,
   "metadata": {},
   "outputs": [
    {
     "name": "stdout",
     "output_type": "stream",
     "text": [
      "Server:\t\t127.0.0.53\r\n",
      "Address:\t127.0.0.53#53\r\n",
      "\r\n",
      "Non-authoritative answer:\r\n",
      "nju.edu.cn\tnameserver = dns.nju.edu.cn.\r\n",
      "nju.edu.cn\tnameserver = ns.nju.edu.cn.\r\n",
      "\r\n",
      "Authoritative answers can be found from:\r\n",
      "\r\n"
     ]
    }
   ],
   "source": [
    "!nslookup -type=NS nju.edu.cn"
   ]
  },
  {
   "cell_type": "code",
   "execution_count": 14,
   "metadata": {},
   "outputs": [
    {
     "name": "stdout",
     "output_type": "stream",
     "text": [
      "Server:\t\t127.0.0.53\r\n",
      "Address:\t127.0.0.53#53\r\n",
      "\r\n",
      "Non-authoritative answer:\r\n",
      "edu.cn\tnameserver = dns.edu.cn.\r\n",
      "edu.cn\tnameserver = ns2.cernet.net.\r\n",
      "edu.cn\tnameserver = dns2.edu.cn.\r\n",
      "edu.cn\tnameserver = ns2.cuhk.hk.\r\n",
      "edu.cn\tnameserver = deneb.dfn.de.\r\n",
      "\r\n",
      "Authoritative answers can be found from:\r\n",
      "\r\n"
     ]
    }
   ],
   "source": [
    "!nslookup -type=NS edu.cn"
   ]
  },
  {
   "cell_type": "code",
   "execution_count": 15,
   "metadata": {},
   "outputs": [
    {
     "name": "stdout",
     "output_type": "stream",
     "text": [
      "Server:\t\t127.0.0.53\r\n",
      "Address:\t127.0.0.53#53\r\n",
      "\r\n",
      "Non-authoritative answer:\r\n",
      "cn\tnameserver = c.dns.cn.\r\n",
      "cn\tnameserver = f.dns.cn.\r\n",
      "cn\tnameserver = b.dns.cn.\r\n",
      "cn\tnameserver = g.dns.cn.\r\n",
      "cn\tnameserver = ns.cernet.net.\r\n",
      "cn\tnameserver = e.dns.cn.\r\n",
      "cn\tnameserver = d.dns.cn.\r\n",
      "cn\tnameserver = a.dns.cn.\r\n",
      "\r\n",
      "Authoritative answers can be found from:\r\n",
      "\r\n"
     ]
    }
   ],
   "source": [
    "!nslookup -type=NS cn"
   ]
  },
  {
   "cell_type": "code",
   "execution_count": 16,
   "metadata": {},
   "outputs": [
    {
     "name": "stdout",
     "output_type": "stream",
     "text": [
      "Server:\t\t127.0.0.53\r\n",
      "Address:\t127.0.0.53#53\r\n",
      "\r\n",
      "Non-authoritative answer:\r\n",
      ".\tnameserver = l.root-servers.net.\r\n",
      ".\tnameserver = d.root-servers.net.\r\n",
      ".\tnameserver = a.root-servers.net.\r\n",
      ".\tnameserver = j.root-servers.net.\r\n",
      ".\tnameserver = h.root-servers.net.\r\n",
      ".\tnameserver = i.root-servers.net.\r\n",
      ".\tnameserver = g.root-servers.net.\r\n",
      ".\tnameserver = b.root-servers.net.\r\n",
      ".\tnameserver = c.root-servers.net.\r\n",
      ".\tnameserver = k.root-servers.net.\r\n",
      ".\tnameserver = m.root-servers.net.\r\n",
      ".\tnameserver = e.root-servers.net.\r\n",
      ".\tnameserver = f.root-servers.net.\r\n",
      "\r\n",
      "Authoritative answers can be found from:\r\n",
      "\r\n"
     ]
    }
   ],
   "source": [
    "!nslookup -type=NS ."
   ]
  },
  {
   "cell_type": "code",
   "execution_count": 17,
   "metadata": {},
   "outputs": [
    {
     "name": "stdout",
     "output_type": "stream",
     "text": [
      "Server:\t\t127.0.0.53\r\n",
      "Address:\t127.0.0.53#53\r\n",
      "\r\n",
      "Non-authoritative answer:\r\n",
      "nju.edu.cn\tmail exchanger = 10 mxbiz2.qq.com.\r\n",
      "nju.edu.cn\tmail exchanger = 5 mxbiz1.qq.com.\r\n",
      "\r\n",
      "Authoritative answers can be found from:\r\n",
      "\r\n"
     ]
    }
   ],
   "source": [
    "!nslookup -type=MX nju.edu.cn"
   ]
  },
  {
   "cell_type": "code",
   "execution_count": 18,
   "metadata": {},
   "outputs": [
    {
     "name": "stdout",
     "output_type": "stream",
     "text": [
      "Server:\t\t127.0.0.53\r\n",
      "Address:\t127.0.0.53#53\r\n",
      "\r\n",
      "Non-authoritative answer:\r\n",
      "mail.nju.edu.cn\tcanonical name = ssl.exmail.qq.com.\r\n",
      "\r\n",
      "Authoritative answers can be found from:\r\n",
      "\r\n"
     ]
    }
   ],
   "source": [
    "!nslookup -type=CNAME mail.nju.edu.cn"
   ]
  },
  {
   "cell_type": "markdown",
   "metadata": {},
   "source": [
    "#### Now back to CDN, how DNS server know which replication is the best?\n",
    "Let's See one example about facebook\\\n",
    "\n",
    "If I ask NJU's DNS server what's FBs IP address "
   ]
  },
  {
   "cell_type": "code",
   "execution_count": 19,
   "metadata": {},
   "outputs": [
    {
     "name": "stdout",
     "output_type": "stream",
     "text": [
      "\n",
      "; <<>> DiG 9.11.5-P4-5.1ubuntu2.1-Ubuntu <<>> +trace @dns.nju.edu.cn www.facebook.com\n",
      "; (1 server found)\n",
      ";; global options: +cmd\n",
      ".\t\t\t61795\tIN\tNS\td.root-servers.net.\n",
      ".\t\t\t61795\tIN\tNS\tk.root-servers.net.\n",
      ".\t\t\t61795\tIN\tNS\tg.root-servers.net.\n",
      ".\t\t\t61795\tIN\tNS\ta.root-servers.net.\n",
      ".\t\t\t61795\tIN\tNS\tb.root-servers.net.\n",
      ".\t\t\t61795\tIN\tNS\te.root-servers.net.\n",
      ".\t\t\t61795\tIN\tNS\tl.root-servers.net.\n",
      ".\t\t\t61795\tIN\tNS\tc.root-servers.net.\n",
      ".\t\t\t61795\tIN\tNS\tj.root-servers.net.\n",
      ".\t\t\t61795\tIN\tNS\tf.root-servers.net.\n",
      ".\t\t\t61795\tIN\tNS\ti.root-servers.net.\n",
      ".\t\t\t61795\tIN\tNS\tm.root-servers.net.\n",
      ".\t\t\t61795\tIN\tNS\th.root-servers.net.\n",
      ";; Received 239 bytes from 202.119.32.6#53(dns.nju.edu.cn) in 0 ms\n",
      "\n",
      "www.facebook.com.\t110\tIN\tA\t46.82.174.68\n",
      ";; Received 50 bytes from 2001:7fe::53#53(i.root-servers.net) in 32 ms\n",
      "\n"
     ]
    }
   ],
   "source": [
    "!dig +trace @dns.nju.edu.cn www.facebook.com"
   ]
  },
  {
   "cell_type": "markdown",
   "metadata": {},
   "source": [
    "If I ask Alidns:"
   ]
  },
  {
   "cell_type": "code",
   "execution_count": 20,
   "metadata": {},
   "outputs": [
    {
     "name": "stdout",
     "output_type": "stream",
     "text": [
      "\r\n",
      "; <<>> DiG 9.11.5-P4-5.1ubuntu2.1-Ubuntu <<>> @42.120.214.1 www.facebook.com\r\n",
      "; (1 server found)\r\n",
      ";; global options: +cmd\r\n",
      ";; connection timed out; no servers could be reached\r\n"
     ]
    }
   ],
   "source": [
    "!dig @42.120.214.1 www.facebook.com"
   ]
  },
  {
   "cell_type": "code",
   "execution_count": 21,
   "metadata": {},
   "outputs": [
    {
     "name": "stdout",
     "output_type": "stream",
     "text": [
      "\n",
      "; <<>> DiG 9.11.5-P4-5.1ubuntu2.1-Ubuntu <<>> +trace @8.8.8.8 www.facebook.com\n",
      "; (1 server found)\n",
      ";; global options: +cmd\n",
      ".\t\t\t40615\tIN\tNS\te.root-servers.net.\n",
      ".\t\t\t40615\tIN\tNS\th.root-servers.net.\n",
      ".\t\t\t40615\tIN\tNS\tl.root-servers.net.\n",
      ".\t\t\t40615\tIN\tNS\ti.root-servers.net.\n",
      ".\t\t\t40615\tIN\tNS\ta.root-servers.net.\n",
      ".\t\t\t40615\tIN\tNS\td.root-servers.net.\n",
      ".\t\t\t40615\tIN\tNS\tc.root-servers.net.\n",
      ".\t\t\t40615\tIN\tNS\tb.root-servers.net.\n",
      ".\t\t\t40615\tIN\tNS\tj.root-servers.net.\n",
      ".\t\t\t40615\tIN\tNS\tk.root-servers.net.\n",
      ".\t\t\t40615\tIN\tNS\tg.root-servers.net.\n",
      ".\t\t\t40615\tIN\tNS\tm.root-servers.net.\n",
      ".\t\t\t40615\tIN\tNS\tf.root-servers.net.\n",
      ".\t\t\t40615\tIN\tRRSIG\tNS 8 0 518400 20191230050000 20191217040000 22545 . dFKL9Cy3e7YS21tReoW8TvDhQ9vWg85R0yHbWFtInRl4O2HQM6eLEMJW bnKTvRl4DkjSnGQUHG43xwNIVYje8kRA9CxRPYCtwarVqf3hQTmOVz4H gnLTGaxmMcgZajpJJqPMHnZJUXQ/Iicc/fWb7cwgGu1SMmOowuUXhYba eEYfYXdGLJIues3aio8RY4ui4dVuYuq3yyJOK0hrtpp6F5DaAeTc34ij V1lk64PiEZzJDudKeqzBlDYnXKj1iGwzOBLv+liocDfbQT5naL32l26S 1xy7Q5iT64j8RHrva1RssD+tmtgXffI9z84aLgbjg/uuExXM8cAaf8vN +K/zqA==\n",
      ";; Received 525 bytes from 8.8.8.8#53(8.8.8.8) in 65 ms\n",
      "\n",
      "com.\t\t\t172800\tIN\tNS\ti.gtld-servers.net.\n",
      "com.\t\t\t172800\tIN\tNS\te.gtld-servers.net.\n",
      "com.\t\t\t172800\tIN\tNS\tb.gtld-servers.net.\n",
      "com.\t\t\t172800\tIN\tNS\ta.gtld-servers.net.\n",
      "com.\t\t\t172800\tIN\tNS\td.gtld-servers.net.\n",
      "com.\t\t\t172800\tIN\tNS\tc.gtld-servers.net.\n",
      "com.\t\t\t172800\tIN\tNS\th.gtld-servers.net.\n",
      "com.\t\t\t172800\tIN\tNS\tl.gtld-servers.net.\n",
      "com.\t\t\t172800\tIN\tNS\tj.gtld-servers.net.\n",
      "com.\t\t\t172800\tIN\tNS\tg.gtld-servers.net.\n",
      "com.\t\t\t172800\tIN\tNS\tf.gtld-servers.net.\n",
      "com.\t\t\t172800\tIN\tNS\tm.gtld-servers.net.\n",
      "com.\t\t\t172800\tIN\tNS\tk.gtld-servers.net.\n",
      "com.\t\t\t86400\tIN\tDS\t30909 8 2 E2D3C916F6DEEAC73294E8268FB5885044A833FC5459588F4A9184CF C41A5766\n",
      "com.\t\t\t86400\tIN\tRRSIG\tDS 8 1 86400 20191230210000 20191217200000 22545 . q8qTGZOyxkU7nAspiaKWOVOove/7lJRpI6LqPOgh4UgiwcDthK3r/nik w8msSwJg5xribZTefVW3kXEwQ2NTDZ1dQUulFVeWBkoUeaYbGpFXpXdJ DUgBY9IE6e4cdsNe+F7GeyMbHNVv9WwSWP057/PGvqfnZaoWlca/gylh MutIpO/i42guMQYWYDKKzZIH2Ltf0w+fZVtrV2px08cFKqlegD8+7AXL hiWKd26dFwyWkcMbOY9pFoJXf4pamW46Or9UH3DeS7EO4n6aJce2xkjl K2yGUHqrS1hdwEJfLQm/C1Ao2q5Jlj0kC3/1UzWWB1gkqUP8wCcMWhtr vsnX/Q==\n",
      ";; Received 1204 bytes from 192.33.4.12#53(c.root-servers.net) in 7 ms\n",
      "\n",
      ";; expected opt record in response\n",
      "www.facebook.com.\t202\tIN\tA\t31.13.97.248\n",
      ";; Received 50 bytes from 192.31.80.30#53(d.gtld-servers.net) in 34 ms\n",
      "\n"
     ]
    }
   ],
   "source": [
    "!dig +trace @8.8.8.8 www.facebook.com"
   ]
  },
  {
   "cell_type": "code",
   "execution_count": 22,
   "metadata": {},
   "outputs": [
    {
     "name": "stdout",
     "output_type": "stream",
     "text": [
      "\r\n",
      "; <<>> DiG 9.11.5-P4-5.1ubuntu2.1-Ubuntu <<>> +trace @c.root-servers.net www.facebook.com\r\n",
      "; (2 servers found)\r\n",
      ";; global options: +cmd\r\n",
      ".\t\t\t518400\tIN\tNS\tj.root-servers.net.\r\n",
      ".\t\t\t518400\tIN\tNS\tf.root-servers.net.\r\n",
      ".\t\t\t518400\tIN\tNS\td.root-servers.net.\r\n",
      ".\t\t\t518400\tIN\tNS\te.root-servers.net.\r\n",
      ".\t\t\t518400\tIN\tNS\tl.root-servers.net.\r\n",
      ".\t\t\t518400\tIN\tNS\tm.root-servers.net.\r\n",
      ".\t\t\t518400\tIN\tNS\tk.root-servers.net.\r\n",
      ".\t\t\t518400\tIN\tNS\ti.root-servers.net.\r\n",
      ".\t\t\t518400\tIN\tNS\tb.root-servers.net.\r\n",
      ".\t\t\t518400\tIN\tNS\tc.root-servers.net.\r\n",
      ".\t\t\t518400\tIN\tNS\tg.root-servers.net.\r\n",
      ".\t\t\t518400\tIN\tNS\ta.root-servers.net.\r\n",
      ".\t\t\t518400\tIN\tNS\th.root-servers.net.\r\n",
      ".\t\t\t518400\tIN\tRRSIG\tNS 8 0 518400 20191231050000 20191218040000 22545 . T34Au86AqnmoHLcxFSWIqAdAB+KFrFwg3jhMQZJ4d7TeH3fFz8S+BAbC xOkARhSjs+GRGH3U3nozo/clTuJec9qtW9H4WG2SxumMGUBvUIaWWai/ R25TNY8Yth3qgUB6HIySLZsn9/hSgsS4irtJdEbAUqwcNCoqBiey51h2 zcF77JuyWjs4rmQK1vm3YAivT3KuNhiN+LSxt4rs/P9Xz8xTyccWC3gI u0t6MPVVsHJDZB0gU8NXgbqe19lqIsza7qCKrmAZ8NYRpR8koC4QFyxu Cr08JGP7J+99otvNEPYqOGC1RNTBnpco25UOJ5ZhS9ap3dhq3FEHcCay YZo9sA==\r\n",
      ";; Received 1125 bytes from 2001:500:2::c#53(c.root-servers.net) in 240 ms\r\n",
      "\r\n",
      ";; expected opt record in response\r\n",
      "www.facebook.com.\t110\tIN\tA\t31.13.73.1\r\n",
      ";; Received 50 bytes from 2001:7fe::53#53(i.root-servers.net) in 32 ms\r\n",
      "\r\n"
     ]
    }
   ],
   "source": [
    "!dig +trace @c.root-servers.net www.facebook.com"
   ]
  },
  {
   "cell_type": "markdown",
   "metadata": {},
   "source": [
    "(Optimal)Answer: DNS + Anycast"
   ]
  },
  {
   "cell_type": "markdown",
   "metadata": {},
   "source": [
    "### Of course, you can open wireshark(filter: dns) to capture these DNS packet when runing above commands.\n",
    "\n",
    "These are some questions leaving for you\n",
    "\n",
    "Q1 DNS ports?\n",
    "\n",
    "Q2 DNS packet should contain Queries and Answers, how many of each?\n",
    "\n",
    "Q3 whats the difference between query with `www.` and without ?"
   ]
  },
  {
   "cell_type": "markdown",
   "metadata": {},
   "source": [
    "These are RTT for different DNS server,"
   ]
  },
  {
   "cell_type": "code",
   "execution_count": 23,
   "metadata": {},
   "outputs": [
    {
     "name": "stdout",
     "output_type": "stream",
     "text": [
      "PING 114.114.114.114 (114.114.114.114) 56(84) bytes of data.\n",
      "64 bytes from 114.114.114.114: icmp_seq=1 ttl=90 time=2.61 ms\n",
      "64 bytes from 114.114.114.114: icmp_seq=2 ttl=81 time=2.39 ms\n",
      "64 bytes from 114.114.114.114: icmp_seq=3 ttl=65 time=2.34 ms\n",
      "64 bytes from 114.114.114.114: icmp_seq=4 ttl=76 time=1.95 ms\n",
      "64 bytes from 114.114.114.114: icmp_seq=5 ttl=93 time=1.92 ms\n",
      "\n",
      "--- 114.114.114.114 ping statistics ---\n",
      "5 packets transmitted, 5 received, 0% packet loss, time 4006ms\n",
      "rtt min/avg/max/mdev = 1.917/2.239/2.606/0.267 ms\n"
     ]
    }
   ],
   "source": [
    "!ping 114.114.114.114 -c5"
   ]
  },
  {
   "cell_type": "code",
   "execution_count": 24,
   "metadata": {},
   "outputs": [
    {
     "name": "stdout",
     "output_type": "stream",
     "text": [
      "PING 8.8.8.8 (8.8.8.8) 56(84) bytes of data.\n",
      "64 bytes from 8.8.8.8: icmp_seq=1 ttl=50 time=41.9 ms\n",
      "64 bytes from 8.8.8.8: icmp_seq=2 ttl=50 time=43.8 ms\n",
      "64 bytes from 8.8.8.8: icmp_seq=3 ttl=50 time=41.6 ms\n",
      "64 bytes from 8.8.8.8: icmp_seq=4 ttl=50 time=44.1 ms\n",
      "64 bytes from 8.8.8.8: icmp_seq=5 ttl=50 time=41.9 ms\n",
      "\n",
      "--- 8.8.8.8 ping statistics ---\n",
      "5 packets transmitted, 5 received, 0% packet loss, time 4005ms\n",
      "rtt min/avg/max/mdev = 41.591/42.669/44.131/1.062 ms\n"
     ]
    }
   ],
   "source": [
    "!ping 8.8.8.8 -c5"
   ]
  },
  {
   "cell_type": "code",
   "execution_count": 25,
   "metadata": {},
   "outputs": [
    {
     "name": "stdout",
     "output_type": "stream",
     "text": [
      "PING 8.8.4.4 (8.8.4.4) 56(84) bytes of data.\n",
      "64 bytes from 8.8.4.4: icmp_seq=1 ttl=50 time=41.1 ms\n",
      "64 bytes from 8.8.4.4: icmp_seq=2 ttl=50 time=34.4 ms\n",
      "64 bytes from 8.8.4.4: icmp_seq=3 ttl=50 time=36.7 ms\n",
      "64 bytes from 8.8.4.4: icmp_seq=4 ttl=50 time=34.6 ms\n",
      "64 bytes from 8.8.4.4: icmp_seq=5 ttl=50 time=39.0 ms\n",
      "\n",
      "--- 8.8.4.4 ping statistics ---\n",
      "5 packets transmitted, 5 received, 0% packet loss, time 4006ms\n",
      "rtt min/avg/max/mdev = 34.386/37.161/41.099/2.590 ms\n"
     ]
    }
   ],
   "source": [
    "!ping 8.8.4.4 -c5"
   ]
  },
  {
   "cell_type": "code",
   "execution_count": 26,
   "metadata": {},
   "outputs": [
    {
     "name": "stdout",
     "output_type": "stream",
     "text": [
      "PING 4.2.2.2 (4.2.2.2) 56(84) bytes of data.\n",
      "64 bytes from 4.2.2.2: icmp_seq=1 ttl=52 time=234 ms\n",
      "64 bytes from 4.2.2.2: icmp_seq=2 ttl=52 time=233 ms\n",
      "64 bytes from 4.2.2.2: icmp_seq=3 ttl=52 time=233 ms\n",
      "64 bytes from 4.2.2.2: icmp_seq=4 ttl=52 time=234 ms\n",
      "64 bytes from 4.2.2.2: icmp_seq=5 ttl=52 time=234 ms\n",
      "\n",
      "--- 4.2.2.2 ping statistics ---\n",
      "5 packets transmitted, 5 received, 0% packet loss, time 4005ms\n",
      "rtt min/avg/max/mdev = 233.267/233.607/234.337/0.379 ms\n"
     ]
    }
   ],
   "source": [
    "!ping 4.2.2.2 -c5"
   ]
  },
  {
   "cell_type": "code",
   "execution_count": 27,
   "metadata": {},
   "outputs": [
    {
     "name": "stdout",
     "output_type": "stream",
     "text": [
      "PING dns.nju.edu.cn (202.119.32.6) 56(84) bytes of data.\n",
      "64 bytes from dns.nju.edu.cn (202.119.32.6): icmp_seq=1 ttl=62 time=0.526 ms\n",
      "64 bytes from dns.nju.edu.cn (202.119.32.6): icmp_seq=2 ttl=62 time=0.425 ms\n",
      "64 bytes from dns.nju.edu.cn (202.119.32.6): icmp_seq=3 ttl=62 time=0.473 ms\n",
      "64 bytes from dns.nju.edu.cn (202.119.32.6): icmp_seq=4 ttl=62 time=0.422 ms\n",
      "64 bytes from dns.nju.edu.cn (202.119.32.6): icmp_seq=5 ttl=62 time=0.414 ms\n",
      "\n",
      "--- dns.nju.edu.cn ping statistics ---\n",
      "5 packets transmitted, 5 received, 0% packet loss, time 4080ms\n",
      "rtt min/avg/max/mdev = 0.414/0.452/0.526/0.042 ms\n"
     ]
    }
   ],
   "source": [
    "!ping dns.nju.edu.cn -c5"
   ]
  },
  {
   "cell_type": "code",
   "execution_count": 28,
   "metadata": {},
   "outputs": [
    {
     "name": "stdout",
     "output_type": "stream",
     "text": [
      "PING www.alidns.com (42.120.214.1) 56(84) bytes of data.\n",
      "64 bytes from 42.120.214.1 (42.120.214.1): icmp_seq=1 ttl=42 time=13.7 ms\n",
      "64 bytes from 42.120.214.1 (42.120.214.1): icmp_seq=2 ttl=42 time=12.9 ms\n",
      "64 bytes from 42.120.214.1 (42.120.214.1): icmp_seq=3 ttl=42 time=13.2 ms\n",
      "64 bytes from 42.120.214.1 (42.120.214.1): icmp_seq=4 ttl=42 time=13.4 ms\n",
      "64 bytes from 42.120.214.1 (42.120.214.1): icmp_seq=5 ttl=42 time=13.1 ms\n",
      "\n",
      "--- www.alidns.com ping statistics ---\n",
      "5 packets transmitted, 5 received, 0% packet loss, time 4040ms\n",
      "rtt min/avg/max/mdev = 12.872/13.235/13.682/0.273 ms\n"
     ]
    }
   ],
   "source": [
    "!ping www.alidns.com -c5"
   ]
  },
  {
   "cell_type": "markdown",
   "metadata": {},
   "source": [
    "### Please git push your name-student_ID\n",
    "\n",
    "### No more assignment and good luck with your finals\n",
    "\n",
    "### Thank you"
   ]
  }
 ],
 "metadata": {
  "kernelspec": {
   "display_name": "Python 3",
   "language": "python",
   "name": "python3"
  },
  "language_info": {
   "codemirror_mode": {
    "name": "ipython",
    "version": 3
   },
   "file_extension": ".py",
   "mimetype": "text/x-python",
   "name": "python",
   "nbconvert_exporter": "python",
   "pygments_lexer": "ipython3",
   "version": "3.7.0"
  }
 },
 "nbformat": 4,
 "nbformat_minor": 2
}
